{
 "cells": [
  {
   "cell_type": "code",
   "execution_count": 4,
   "source": [
    "def square(lst):\r\n",
    "    result=[]\r\n",
    "    for num in lst:\r\n",
    "        res=num*num\r\n",
    "        result.append(res)\r\n",
    "    return result\r\n",
    "    \r\n",
    "lst=[1,2,3]\r\n",
    "print(square(lst))"
   ],
   "outputs": [
    {
     "output_type": "stream",
     "name": "stdout",
     "text": [
      "[1, 4, 9]\n"
     ]
    }
   ],
   "metadata": {}
  },
  {
   "cell_type": "code",
   "execution_count": 1,
   "source": [
    "def relu(x):\r\n",
    "  if x > 0 :\r\n",
    "    return X\r\n",
    "  else:\r\n",
    "    return 0\r\n",
    "\r\n",
    "relu(-3)"
   ],
   "outputs": [
    {
     "output_type": "execute_result",
     "data": {
      "text/plain": [
       "0"
      ]
     },
     "metadata": {},
     "execution_count": 1
    }
   ],
   "metadata": {}
  },
  {
   "cell_type": "code",
   "execution_count": 2,
   "source": [
    "import math\r\n",
    "def euclidean_norm(vector):\r\n",
    "  result=0\r\n",
    "  for i in vector:\r\n",
    "    num= i**2\r\n",
    "    result += num\r\n",
    "  return math.sqrt(result)\r\n",
    "\r\n",
    "import numpy as np\r\n",
    "my_vector = [0.5, -1.2, 3.3, 4.5]\r\n",
    "# The result should be roughly 5.729746940310715\r\n",
    "euclidean_norm(my_vector)"
   ],
   "outputs": [
    {
     "output_type": "execute_result",
     "data": {
      "text/plain": [
       "5.729746940310715"
      ]
     },
     "metadata": {},
     "execution_count": 2
    }
   ],
   "metadata": {}
  },
  {
   "cell_type": "code",
   "execution_count": 3,
   "source": [
    "def vector_maximum(vector):\r\n",
    "  biggest_i=vector[0]\r\n",
    "  for i in vector:\r\n",
    "    if i > biggest_i:\r\n",
    "      biggest_i = i\r\n",
    "  return i\r\n",
    "\r\n",
    "import numpy as np\r\n",
    "my_vector = [0.5, -1.2, 3.3, 4.5]\r\n",
    "vector_maximum(my_vector)"
   ],
   "outputs": [
    {
     "output_type": "execute_result",
     "data": {
      "text/plain": [
       "4.5"
      ]
     },
     "metadata": {},
     "execution_count": 3
    }
   ],
   "metadata": {}
  }
 ],
 "metadata": {
  "orig_nbformat": 4,
  "language_info": {
   "name": "python",
   "version": "3.8.3",
   "mimetype": "text/x-python",
   "codemirror_mode": {
    "name": "ipython",
    "version": 3
   },
   "pygments_lexer": "ipython3",
   "nbconvert_exporter": "python",
   "file_extension": ".py"
  },
  "kernelspec": {
   "name": "python3",
   "display_name": "Python 3.8.3 64-bit ('base': conda)"
  },
  "interpreter": {
   "hash": "46182d5f787c7496ac3d2ccd0c5d8bf41bffd3ac5e5e93146af501a7f382c533"
  }
 },
 "nbformat": 4,
 "nbformat_minor": 2
}